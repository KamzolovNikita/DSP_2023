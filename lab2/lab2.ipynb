{
 "cells": [
  {
   "cell_type": "code",
   "execution_count": 1,
   "id": "8327beb2",
   "metadata": {},
   "outputs": [],
   "source": [
    "import librosa\n",
    "import numpy as np\n",
    "import matplotlib.pyplot as plt\n",
    "import scipy.signal\n",
    "import math\n",
    "import pandas as pd\n",
    "(x, N1) = librosa.load(\"DTMF_Lab2.wav\", sr=None)"
   ]
  },
  {
   "cell_type": "code",
   "execution_count": 2,
   "id": "e2fa3f2f",
   "metadata": {},
   "outputs": [],
   "source": [
    "pi = math.pi"
   ]
  },
  {
   "cell_type": "code",
   "execution_count": 3,
   "id": "5d08bb24",
   "metadata": {},
   "outputs": [],
   "source": [
    "N = 8192"
   ]
  },
  {
   "cell_type": "code",
   "execution_count": 4,
   "id": "3dadb8c7",
   "metadata": {},
   "outputs": [],
   "source": [
    "gap = int(N1 / 5)"
   ]
  },
  {
   "cell_type": "code",
   "execution_count": 5,
   "id": "8a065b98",
   "metadata": {},
   "outputs": [],
   "source": [
    "#def hertzel(x, N):\n",
    "#    g = [0 for i in range(N)]\n",
    "#    g[N-1] = 0\n",
    "#    g[N-2] = x[N-1]\n",
    "#    k = 1633\n",
    "#    for i in range(3, N):\n",
    "#        g[N-i] = x[N-1] + 2 * math.cos(2 * pi * k / N) * g[N - i + 1] - g[N - i + 2]\n",
    "#    X_sqared = g[0]**2 * math.cos(2 * pi * k / N) - g[1] - g[0] * math.sin(2 * pi * k / N)\n",
    "#    print(X)\n",
    "#hertzel(x[:8192], 8192)"
   ]
  },
  {
   "cell_type": "code",
   "execution_count": 6,
   "id": "a97dd68d",
   "metadata": {},
   "outputs": [
    {
     "data": {
      "text/plain": [
       "25.83984375"
      ]
     },
     "execution_count": 6,
     "metadata": {},
     "output_type": "execute_result"
    }
   ],
   "source": [
    "x.size / N"
   ]
  },
  {
   "cell_type": "code",
   "execution_count": 7,
   "id": "d304d06d",
   "metadata": {},
   "outputs": [],
   "source": [
    "def hertzel(x, N, k):\n",
    "    s = [0 for i in range(N)]\n",
    "    s[0] = x[0]\n",
    "    s[1] = 2 * math.cos(2 * pi * k / N) + x[1]\n",
    "    for i in range(2, N):\n",
    "        s[i] = 2 * math.cos(2 * pi / k) * s[i-1] - s[i-2] + x[i]\n",
    "    X_squared = s[N-1] ** 2 - 2 * math.cos(2 * pi / k) * s[N-1] * s[N-2] + s[N-2]**2\n",
    "    return X_squared ** (1/2)\n",
    "    \n",
    "def find_ks(x, N):\n",
    "    k_first_group = [697, 770, 852, 941]\n",
    "    k_second_group = [1209, 1336, 1477, 1633]\n",
    "    k_first = 0\n",
    "    k_second = 0\n",
    "    X_max = 0\n",
    "    for k in k_first_group:\n",
    "        X_k = hertzel(x, N, k)\n",
    "        if (X_k > X_max):\n",
    "            X_max = X_k\n",
    "            k_first = k\n",
    "    X_max = 0\n",
    "    for k in k_second_group:\n",
    "        X_k = hertzel(x, N, k)\n",
    "        if (X_k > X_max):\n",
    "            X_max = X_k\n",
    "            k_second = k\n",
    "    return (k_first, k_second)"
   ]
  },
  {
   "cell_type": "code",
   "execution_count": 8,
   "id": "9230cd9f",
   "metadata": {},
   "outputs": [
    {
     "data": {
      "text/html": [
       "<div>\n",
       "<style scoped>\n",
       "    .dataframe tbody tr th:only-of-type {\n",
       "        vertical-align: middle;\n",
       "    }\n",
       "\n",
       "    .dataframe tbody tr th {\n",
       "        vertical-align: top;\n",
       "    }\n",
       "\n",
       "    .dataframe thead th {\n",
       "        text-align: right;\n",
       "    }\n",
       "</style>\n",
       "<table border=\"1\" class=\"dataframe\">\n",
       "  <thead>\n",
       "    <tr style=\"text-align: right;\">\n",
       "      <th></th>\n",
       "      <th>1209</th>\n",
       "      <th>1336</th>\n",
       "      <th>1477</th>\n",
       "      <th>1633</th>\n",
       "    </tr>\n",
       "  </thead>\n",
       "  <tbody>\n",
       "    <tr>\n",
       "      <th>697</th>\n",
       "      <td>1</td>\n",
       "      <td>2</td>\n",
       "      <td>3</td>\n",
       "      <td>A</td>\n",
       "    </tr>\n",
       "    <tr>\n",
       "      <th>770</th>\n",
       "      <td>4</td>\n",
       "      <td>5</td>\n",
       "      <td>6</td>\n",
       "      <td>B</td>\n",
       "    </tr>\n",
       "    <tr>\n",
       "      <th>852</th>\n",
       "      <td>7</td>\n",
       "      <td>8</td>\n",
       "      <td>9</td>\n",
       "      <td>C</td>\n",
       "    </tr>\n",
       "    <tr>\n",
       "      <th>941</th>\n",
       "      <td>*</td>\n",
       "      <td>0</td>\n",
       "      <td>#</td>\n",
       "      <td>D</td>\n",
       "    </tr>\n",
       "  </tbody>\n",
       "</table>\n",
       "</div>"
      ],
      "text/plain": [
       "    1209 1336 1477 1633\n",
       "697    1    2    3    A\n",
       "770    4    5    6    B\n",
       "852    7    8    9    C\n",
       "941    *    0    #    D"
      ]
     },
     "execution_count": 8,
     "metadata": {},
     "output_type": "execute_result"
    }
   ],
   "source": [
    "table = pd.DataFrame(data = [[1, 2, 3, \"A\"], [4, 5, 6, \"B\"], [7, 8, 9, \"C\"], [\"*\", \"0\", \"#\", \"D\"]], \n",
    "             index=[697, 770, 852, 941], \n",
    "             columns=[1209, 1336, 1477, 1633])\n",
    "table"
   ]
  },
  {
   "cell_type": "code",
   "execution_count": 9,
   "id": "9630e20e",
   "metadata": {},
   "outputs": [],
   "source": [
    "curPoint = 0\n",
    "answer = []\n",
    "while curPoint + gap < x.size:\n",
    "    ks = find_ks(x[curPoint:curPoint + gap], 8192)\n",
    "    answer.append(table.loc[ks[0], ks[1]])\n",
    "    curPoint = curPoint + gap + gap // 2"
   ]
  },
  {
   "cell_type": "code",
   "execution_count": 10,
   "id": "02efab2b",
   "metadata": {},
   "outputs": [
    {
     "data": {
      "text/plain": [
       "[1, 2, 6, 6, 2, 1, 2, 1, 2, 2, 6, 1, 9, 2, 6, 6]"
      ]
     },
     "execution_count": 10,
     "metadata": {},
     "output_type": "execute_result"
    }
   ],
   "source": [
    "answer"
   ]
  }
 ],
 "metadata": {
  "kernelspec": {
   "display_name": "Python 3 (ipykernel)",
   "language": "python",
   "name": "python3"
  },
  "language_info": {
   "codemirror_mode": {
    "name": "ipython",
    "version": 3
   },
   "file_extension": ".py",
   "mimetype": "text/x-python",
   "name": "python",
   "nbconvert_exporter": "python",
   "pygments_lexer": "ipython3",
   "version": "3.10.6"
  }
 },
 "nbformat": 4,
 "nbformat_minor": 5
}
